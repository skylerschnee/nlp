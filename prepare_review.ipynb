{
 "cells": [
  {
   "cell_type": "code",
   "execution_count": 1,
   "id": "206407cf",
   "metadata": {},
   "outputs": [],
   "source": [
    "import pandas as pd\n",
    "import numpy as np\n",
    "\n",
    "import re\n",
    "import unicodedata\n",
    "import nltk\n",
    "from nltk.corpus import stopwords\n",
    "\n",
    "import acquire"
   ]
  },
  {
   "cell_type": "markdown",
   "id": "34cb1da9",
   "metadata": {},
   "source": [
    "### Define a function named basic_clean. It should take in a string and apply some basic text cleaning to it:\n",
    "\n",
    "- Lowercase everything\n",
    "- Normalize unicode characters\n",
    "- Replace anything that is not a letter, number, whitespace."
   ]
  },
  {
   "cell_type": "code",
   "execution_count": 29,
   "id": "86e63e18-04ce-4115-b3c5-0f34babaf98d",
   "metadata": {},
   "outputs": [],
   "source": [
    "def basic_clean(some_string):\n",
    "    '''\n",
    "    basic_clean will take in a single string as an argument,\n",
    "    apply unicode normalization and ascii encoding,\n",
    "    then decode and use regex to replace anything thats not a letter, number,\n",
    "    or whitespace\n",
    "    \n",
    "    return: a cleaned version of some_string\n",
    "    '''\n",
    "    some_string = unicodedata.normalize('NFKD', some_string).encode('ascii', 'ignore').\\\n",
    "    decode('utf-8').lower()\n",
    "    return re.sub(r'[^a-z0-9\\s]', '', some_string)"
   ]
  },
  {
   "cell_type": "code",
   "execution_count": 3,
   "id": "681dde90-93a5-4a1e-8407-d07ffb1f66a6",
   "metadata": {},
   "outputs": [
    {
     "data": {
      "text/plain": [
       "'hi there here is some content wow thats what i call content'"
      ]
     },
     "execution_count": 3,
     "metadata": {},
     "output_type": "execute_result"
    }
   ],
   "source": [
    "basic_clean('Hi there here is some content! wow thats what I call content!!')"
   ]
  },
  {
   "cell_type": "markdown",
   "id": "5aae2529",
   "metadata": {},
   "source": [
    "### Define a function named tokenize. It should take in a string and tokenize all the words in the string."
   ]
  },
  {
   "cell_type": "code",
   "execution_count": 4,
   "id": "be8a3cb7-cc4d-4d65-9ae9-df70d399263e",
   "metadata": {},
   "outputs": [],
   "source": [
    "def tokenize(some_string):\n",
    "    '''\n",
    "    Tokenize will take in a single argument (a string) and \n",
    "    return: a single tokenized string version of the input string\n",
    "    '''\n",
    "    tokenizer = nltk.tokenize.ToktokTokenizer()\n",
    "    return tokenizer.tokenize(some_string, return_str=True)"
   ]
  },
  {
   "cell_type": "code",
   "execution_count": 5,
   "id": "39262640-5097-4f6a-969a-9fe9cf038e64",
   "metadata": {},
   "outputs": [
    {
     "data": {
      "text/plain": [
       "'This is some content I want to test tokenization on !'"
      ]
     },
     "execution_count": 5,
     "metadata": {},
     "output_type": "execute_result"
    }
   ],
   "source": [
    "tokenize('This is some content I want to test tokenization on!')"
   ]
  },
  {
   "cell_type": "markdown",
   "id": "6aa0bc33",
   "metadata": {},
   "source": [
    "### Define a function named stem. It should accept some text and return the text after applying stemming to all the words."
   ]
  },
  {
   "cell_type": "code",
   "execution_count": 6,
   "id": "0e0e7fc1-2767-4eca-8107-969d855fdfaa",
   "metadata": {},
   "outputs": [],
   "source": [
    "def stem(some_string):\n",
    "    '''\n",
    "    stem will take in a single string instance and stem the contents\n",
    "    it will return a single string\n",
    "    '''\n",
    "    # make my stemmer object\n",
    "    stemmer = nltk.porter.PorterStemmer()\n",
    "    # return the joined back together version of\n",
    "    # the list comprehension that contains the list of every word\n",
    "    #from the contents of your document stemmed\n",
    "    return ' '.join([stemmer.stem(word) for word in some_string.split()])"
   ]
  },
  {
   "cell_type": "code",
   "execution_count": 7,
   "id": "cbf9c355-ef64-4524-96d9-0ab33c0cbb5d",
   "metadata": {},
   "outputs": [
    {
     "data": {
      "text/plain": [
       "'i am test the stemmer on thi content!'"
      ]
     },
     "execution_count": 7,
     "metadata": {},
     "output_type": "execute_result"
    }
   ],
   "source": [
    "stem('I am testing the stemmer on this content!')"
   ]
  },
  {
   "cell_type": "markdown",
   "id": "b971ce27",
   "metadata": {},
   "source": [
    "### Define a function named lemmatize. It should accept some text and return the text after applying lemmatization to each word."
   ]
  },
  {
   "cell_type": "code",
   "execution_count": 8,
   "id": "5b362f93-0a52-4d22-ac30-884b1ec36d6f",
   "metadata": {},
   "outputs": [],
   "source": [
    "def lemmatize(some_string):\n",
    "    '''\n",
    "    lemmatize will take in the contents of a single string,\n",
    "    split up the contents with split()\n",
    "    use the split contents as a list to apply a lemmatizer to\n",
    "    each word,\n",
    "    and return a single string of the lemmatized words joined\n",
    "    with a single instance of whitespace (' '.join())\n",
    "    '''\n",
    "    lemmatizer = nltk.WordNetLemmatizer()\n",
    "    return ' '.join(\n",
    "        [lemmatizer.lemmatize(word,'v'\n",
    "                             ) for word in some_string.split()])"
   ]
  },
  {
   "cell_type": "code",
   "execution_count": 9,
   "id": "750d6584-e80f-4447-83fa-e7b1e0a0f1cf",
   "metadata": {},
   "outputs": [
    {
     "data": {
      "text/plain": [
       "'test my function on this content wowza!'"
      ]
     },
     "execution_count": 9,
     "metadata": {},
     "output_type": "execute_result"
    }
   ],
   "source": [
    "lemmatize('testing my function on this content wowza!')"
   ]
  },
  {
   "cell_type": "markdown",
   "id": "5e5524ed",
   "metadata": {
    "tags": []
   },
   "source": [
    "### Define a function named remove_stopwords. It should accept some text and return the text after removing all the stopwords. This function should define two optional parameters, extra_words and exclude_words. These parameters should define any additional stop words to include, and any words that we don't want to remove."
   ]
  },
  {
   "cell_type": "code",
   "execution_count": 10,
   "id": "317882dc-03ba-4008-9030-1d8efee22c17",
   "metadata": {},
   "outputs": [
    {
     "data": {
      "text/plain": [
       "['ham', 'sandwich', 'cheese']"
      ]
     },
     "execution_count": 10,
     "metadata": {},
     "output_type": "execute_result"
    }
   ],
   "source": [
    "['ham', 'sandwich'] + ['cheese']"
   ]
  },
  {
   "cell_type": "code",
   "execution_count": 11,
   "id": "c0d36782-fc0c-4a06-a076-7e1888bdfd71",
   "metadata": {},
   "outputs": [],
   "source": [
    "set1 = set([1,2,3,4,5])"
   ]
  },
  {
   "cell_type": "code",
   "execution_count": 12,
   "id": "8f0b468c-30b2-4511-8eb7-27b215ca8fc1",
   "metadata": {},
   "outputs": [],
   "source": [
    "set2 = set([5,5,6,7,8])"
   ]
  },
  {
   "cell_type": "code",
   "execution_count": 13,
   "id": "eb470bb5-ad01-49e8-b9f5-f6ee0df11e62",
   "metadata": {},
   "outputs": [
    {
     "data": {
      "text/plain": [
       "{6, 7, 8}"
      ]
     },
     "execution_count": 13,
     "metadata": {},
     "output_type": "execute_result"
    }
   ],
   "source": [
    "set2 - set1"
   ]
  },
  {
   "cell_type": "code",
   "execution_count": 14,
   "id": "adef9c67-b131-4346-a000-f8cfee823f58",
   "metadata": {},
   "outputs": [
    {
     "data": {
      "text/plain": [
       "[1, 2, 3, 4, 5, 6, 7, 8]"
      ]
     },
     "execution_count": 14,
     "metadata": {},
     "output_type": "execute_result"
    }
   ],
   "source": [
    "list(set1.union(set2))"
   ]
  },
  {
   "cell_type": "code",
   "execution_count": 33,
   "id": "453710b1-2914-4808-be2e-61b6e5809143",
   "metadata": {},
   "outputs": [],
   "source": [
    "def remove_stopwords(some_string, extra_words=[], keep_words=[]):\n",
    "    '''\n",
    "    remove stopwords will take in a single document as a string\n",
    "    and return a new string that has stopwords removed\n",
    "    '''\n",
    "    stopwords_custom = set(stopwords.words('english')) - \\\n",
    "    set(keep_words)\n",
    "    stopwords_custom = list(stopwords_custom.union(extra_words))\n",
    "    return ' '.join([word for word in some_string.split()\n",
    "                     if word not in stopwords_custom])"
   ]
  },
  {
   "cell_type": "code",
   "execution_count": null,
   "id": "31345a0a-a4e6-43a0-8968-8e14e86d9abc",
   "metadata": {},
   "outputs": [],
   "source": [
    "stopwords_custom"
   ]
  },
  {
   "cell_type": "code",
   "execution_count": 34,
   "id": "54d75d7a-f59d-4e70-9d99-722682320b19",
   "metadata": {},
   "outputs": [
    {
     "data": {
      "text/plain": [
       "\"I can't wont\""
      ]
     },
     "execution_count": 34,
     "metadata": {},
     "output_type": "execute_result"
    }
   ],
   "source": [
    "remove_stopwords('I can\\'t wont not do that')"
   ]
  },
  {
   "cell_type": "markdown",
   "id": "2a8f2580",
   "metadata": {},
   "source": [
    "### Use your data from the acquire to produce a dataframe of the news articles. Name the dataframe news_df."
   ]
  },
  {
   "cell_type": "code",
   "execution_count": 19,
   "id": "cf34016f-3297-4917-9b2d-7b5fc33b12e9",
   "metadata": {},
   "outputs": [],
   "source": [
    "news_df = acquire.get_news_articles_data()"
   ]
  },
  {
   "cell_type": "code",
   "execution_count": 20,
   "id": "f847f807-e897-4642-b5bf-9f5aea5bcd0e",
   "metadata": {},
   "outputs": [
    {
     "data": {
      "text/html": [
       "<div>\n",
       "<style scoped>\n",
       "    .dataframe tbody tr th:only-of-type {\n",
       "        vertical-align: middle;\n",
       "    }\n",
       "\n",
       "    .dataframe tbody tr th {\n",
       "        vertical-align: top;\n",
       "    }\n",
       "\n",
       "    .dataframe thead th {\n",
       "        text-align: right;\n",
       "    }\n",
       "</style>\n",
       "<table border=\"1\" class=\"dataframe\">\n",
       "  <thead>\n",
       "    <tr style=\"text-align: right;\">\n",
       "      <th></th>\n",
       "      <th>title</th>\n",
       "      <th>content</th>\n",
       "      <th>category</th>\n",
       "    </tr>\n",
       "  </thead>\n",
       "  <tbody>\n",
       "    <tr>\n",
       "      <th>0</th>\n",
       "      <td>RR's Yashasvi Jaiswal smashes fastest fifty in...</td>\n",
       "      <td>Rajasthan Royals (RR) opener Yashasvi Jaiswal ...</td>\n",
       "      <td>national</td>\n",
       "    </tr>\n",
       "    <tr>\n",
       "      <th>1</th>\n",
       "      <td>Rajasthan Royals record biggest win of IPL 202...</td>\n",
       "      <td>Rajasthan Royals (RR) on Thursday recorded the...</td>\n",
       "      <td>national</td>\n",
       "    </tr>\n",
       "    <tr>\n",
       "      <th>2</th>\n",
       "      <td>RR break record for scoring most runs in 1st o...</td>\n",
       "      <td>RR on Thursday broke the record for scoring mo...</td>\n",
       "      <td>national</td>\n",
       "    </tr>\n",
       "    <tr>\n",
       "      <th>3</th>\n",
       "      <td>Which Indians have smashed fifty off 15 or les...</td>\n",
       "      <td>RR's Yashasvi Jaiswal today slammed the fastes...</td>\n",
       "      <td>national</td>\n",
       "    </tr>\n",
       "    <tr>\n",
       "      <th>4</th>\n",
       "      <td>Laxman Sivaramakrishnan mocks Kamal Haasan ove...</td>\n",
       "      <td>Ex-India spinner Laxman Sivaramakrishnan took ...</td>\n",
       "      <td>national</td>\n",
       "    </tr>\n",
       "  </tbody>\n",
       "</table>\n",
       "</div>"
      ],
      "text/plain": [
       "                                               title   \n",
       "0  RR's Yashasvi Jaiswal smashes fastest fifty in...  \\\n",
       "1  Rajasthan Royals record biggest win of IPL 202...   \n",
       "2  RR break record for scoring most runs in 1st o...   \n",
       "3  Which Indians have smashed fifty off 15 or les...   \n",
       "4  Laxman Sivaramakrishnan mocks Kamal Haasan ove...   \n",
       "\n",
       "                                             content  category  \n",
       "0  Rajasthan Royals (RR) opener Yashasvi Jaiswal ...  national  \n",
       "1  Rajasthan Royals (RR) on Thursday recorded the...  national  \n",
       "2  RR on Thursday broke the record for scoring mo...  national  \n",
       "3  RR's Yashasvi Jaiswal today slammed the fastes...  national  \n",
       "4  Ex-India spinner Laxman Sivaramakrishnan took ...  national  "
      ]
     },
     "execution_count": 20,
     "metadata": {},
     "output_type": "execute_result"
    }
   ],
   "source": [
    "news_df.head()"
   ]
  },
  {
   "cell_type": "markdown",
   "id": "bcbd54f7",
   "metadata": {
    "tags": []
   },
   "source": [
    "### Make another dataframe for the Codeup blog posts. Name the dataframe codeup_df."
   ]
  },
  {
   "cell_type": "code",
   "execution_count": 21,
   "id": "9cf9748d-34e2-425a-980b-3edd184cde5d",
   "metadata": {},
   "outputs": [],
   "source": [
    "codeup_df = acquire.get_blog_articles_data()"
   ]
  },
  {
   "cell_type": "code",
   "execution_count": 22,
   "id": "109987a6-69da-478b-97ad-6c583627c3cf",
   "metadata": {},
   "outputs": [
    {
     "data": {
      "text/html": [
       "<div>\n",
       "<style scoped>\n",
       "    .dataframe tbody tr th:only-of-type {\n",
       "        vertical-align: middle;\n",
       "    }\n",
       "\n",
       "    .dataframe tbody tr th {\n",
       "        vertical-align: top;\n",
       "    }\n",
       "\n",
       "    .dataframe thead th {\n",
       "        text-align: right;\n",
       "    }\n",
       "</style>\n",
       "<table border=\"1\" class=\"dataframe\">\n",
       "  <thead>\n",
       "    <tr style=\"text-align: right;\">\n",
       "      <th></th>\n",
       "      <th>title</th>\n",
       "      <th>content</th>\n",
       "    </tr>\n",
       "  </thead>\n",
       "  <tbody>\n",
       "    <tr>\n",
       "      <th>0</th>\n",
       "      <td>Women in tech: Panelist Spotlight – Magdalena ...</td>\n",
       "      <td>\\nCodeup is hosting a Women in Tech Panel in h...</td>\n",
       "    </tr>\n",
       "    <tr>\n",
       "      <th>1</th>\n",
       "      <td>Women in tech: Panelist Spotlight – Rachel Rob...</td>\n",
       "      <td>\\nCodeup is hosting a Women in Tech Panel in h...</td>\n",
       "    </tr>\n",
       "    <tr>\n",
       "      <th>2</th>\n",
       "      <td>Women in Tech: Panelist Spotlight – Sarah Mellor</td>\n",
       "      <td>\\nCodeup is hosting a Women in Tech Panel in ...</td>\n",
       "    </tr>\n",
       "    <tr>\n",
       "      <th>3</th>\n",
       "      <td>Women in Tech: Panelist Spotlight – Madeleine ...</td>\n",
       "      <td>\\nCodeup is hosting a Women in Tech Panel in h...</td>\n",
       "    </tr>\n",
       "    <tr>\n",
       "      <th>4</th>\n",
       "      <td>Black Excellence in Tech: Panelist Spotlight –...</td>\n",
       "      <td>\\n\\nCodeup is hosting a Black Excellence in Te...</td>\n",
       "    </tr>\n",
       "  </tbody>\n",
       "</table>\n",
       "</div>"
      ],
      "text/plain": [
       "                                               title   \n",
       "0  Women in tech: Panelist Spotlight – Magdalena ...  \\\n",
       "1  Women in tech: Panelist Spotlight – Rachel Rob...   \n",
       "2   Women in Tech: Panelist Spotlight – Sarah Mellor   \n",
       "3  Women in Tech: Panelist Spotlight – Madeleine ...   \n",
       "4  Black Excellence in Tech: Panelist Spotlight –...   \n",
       "\n",
       "                                             content  \n",
       "0  \\nCodeup is hosting a Women in Tech Panel in h...  \n",
       "1  \\nCodeup is hosting a Women in Tech Panel in h...  \n",
       "2   \\nCodeup is hosting a Women in Tech Panel in ...  \n",
       "3  \\nCodeup is hosting a Women in Tech Panel in h...  \n",
       "4  \\n\\nCodeup is hosting a Black Excellence in Te...  "
      ]
     },
     "execution_count": 22,
     "metadata": {},
     "output_type": "execute_result"
    }
   ],
   "source": [
    "codeup_df.head()"
   ]
  },
  {
   "cell_type": "markdown",
   "id": "a200ad75",
   "metadata": {},
   "source": [
    "### For each dataframe, produce the following columns:\n",
    "\n",
    "- title to hold the title\n",
    "- original to hold the original article/post content\n",
    "- clean to hold the normalized and tokenized original with the stopwords removed.\n",
    "- stemmed to hold the stemmed version of the cleaned data.\n",
    "- lemmatized to hold the lemmatized version of the cleaned data."
   ]
  },
  {
   "cell_type": "code",
   "execution_count": 23,
   "id": "755e90f5-21c0-4d31-aed0-992f7bc93335",
   "metadata": {},
   "outputs": [
    {
     "data": {
      "text/plain": [
       "Index(['title', 'content', 'category'], dtype='object')"
      ]
     },
     "execution_count": 23,
     "metadata": {},
     "output_type": "execute_result"
    }
   ],
   "source": [
    "news_df.columns"
   ]
  },
  {
   "cell_type": "code",
   "execution_count": 24,
   "id": "04328196",
   "metadata": {},
   "outputs": [
    {
     "data": {
      "text/plain": [
       "Index(['title', 'content'], dtype='object')"
      ]
     },
     "execution_count": 24,
     "metadata": {},
     "output_type": "execute_result"
    }
   ],
   "source": [
    "codeup_df.columns"
   ]
  },
  {
   "cell_type": "code",
   "execution_count": 26,
   "id": "6c1485d3-13d3-4ae4-91fe-07bdfb0fcad4",
   "metadata": {},
   "outputs": [
    {
     "data": {
      "text/html": [
       "<div>\n",
       "<style scoped>\n",
       "    .dataframe tbody tr th:only-of-type {\n",
       "        vertical-align: middle;\n",
       "    }\n",
       "\n",
       "    .dataframe tbody tr th {\n",
       "        vertical-align: top;\n",
       "    }\n",
       "\n",
       "    .dataframe thead th {\n",
       "        text-align: right;\n",
       "    }\n",
       "</style>\n",
       "<table border=\"1\" class=\"dataframe\">\n",
       "  <thead>\n",
       "    <tr style=\"text-align: right;\">\n",
       "      <th></th>\n",
       "      <th>title</th>\n",
       "      <th>original</th>\n",
       "    </tr>\n",
       "  </thead>\n",
       "  <tbody>\n",
       "    <tr>\n",
       "      <th>0</th>\n",
       "      <td>Women in tech: Panelist Spotlight – Magdalena ...</td>\n",
       "      <td>\\nCodeup is hosting a Women in Tech Panel in h...</td>\n",
       "    </tr>\n",
       "  </tbody>\n",
       "</table>\n",
       "</div>"
      ],
      "text/plain": [
       "                                               title   \n",
       "0  Women in tech: Panelist Spotlight – Magdalena ...  \\\n",
       "\n",
       "                                            original  \n",
       "0  \\nCodeup is hosting a Women in Tech Panel in h...  "
      ]
     },
     "execution_count": 26,
     "metadata": {},
     "output_type": "execute_result"
    }
   ],
   "source": [
    "codeup_df.rename(columns={'content':'original'})[:1]"
   ]
  },
  {
   "cell_type": "code",
   "execution_count": null,
   "id": "f62546ec-8806-4b46-a1fa-14bfa07939a9",
   "metadata": {},
   "outputs": [],
   "source": []
  },
  {
   "cell_type": "code",
   "execution_count": 37,
   "id": "7716981d-b8b2-426d-907a-8d27b0b13a72",
   "metadata": {},
   "outputs": [
    {
     "data": {
      "text/plain": [
       "0    codeup hosting women tech panel honor womens h...\n",
       "1    codeup hosting women tech panel honor womens h...\n",
       "2    codeup hosting women tech panel honor womens h...\n",
       "3    codeup hosting women tech panel honor womens h...\n",
       "4    codeup hosting black excellence tech panel hon...\n",
       "5    codeup hosting second black excellence tech pa...\n",
       "Name: content, dtype: object"
      ]
     },
     "execution_count": 37,
     "metadata": {},
     "output_type": "execute_result"
    }
   ],
   "source": [
    "codeup_df['content'].apply(basic_clean).apply(tokenize).apply(remove_stopwords)"
   ]
  },
  {
   "cell_type": "code",
   "execution_count": 38,
   "id": "ff03fddb-adb5-4eea-803c-649510001bd5",
   "metadata": {},
   "outputs": [],
   "source": [
    "def transform_data(df):\n",
    "    df = df.rename(columns={'content':'original'})\n",
    "    # df['clean'] = cleaned and tokenized version with stopwords removed\n",
    "    df['clean'] = df['original'].apply(basic_clean\n",
    "                                      ).apply(tokenize\n",
    "                                             ).apply(remove_stopwords)\n",
    "    # df['stemmed'] = stemmed version of clean data\n",
    "    df['stemmed'] = df['clean'].apply(stem)\n",
    "    # df['lemmatized'] = lemmatized version of clean data\n",
    "    df['lematized'] = df['clean'].apply(lemmatize)\n",
    "    return df"
   ]
  },
  {
   "cell_type": "code",
   "execution_count": 40,
   "id": "9aa78fcd-887e-428c-bdcf-0dd5bcf36531",
   "metadata": {},
   "outputs": [],
   "source": [
    "codeup_df = transform_data(codeup_df)"
   ]
  },
  {
   "cell_type": "code",
   "execution_count": 41,
   "id": "d987daf7-7201-4893-b20b-c949ad1eaee8",
   "metadata": {},
   "outputs": [],
   "source": [
    "news_df = transform_data(news_df)"
   ]
  },
  {
   "cell_type": "code",
   "execution_count": 42,
   "id": "5e9b8144-ab67-42c5-9e0d-bb4982965e13",
   "metadata": {},
   "outputs": [
    {
     "data": {
      "text/html": [
       "<div>\n",
       "<style scoped>\n",
       "    .dataframe tbody tr th:only-of-type {\n",
       "        vertical-align: middle;\n",
       "    }\n",
       "\n",
       "    .dataframe tbody tr th {\n",
       "        vertical-align: top;\n",
       "    }\n",
       "\n",
       "    .dataframe thead th {\n",
       "        text-align: right;\n",
       "    }\n",
       "</style>\n",
       "<table border=\"1\" class=\"dataframe\">\n",
       "  <thead>\n",
       "    <tr style=\"text-align: right;\">\n",
       "      <th></th>\n",
       "      <th>title</th>\n",
       "      <th>original</th>\n",
       "      <th>category</th>\n",
       "      <th>clean</th>\n",
       "      <th>stemmed</th>\n",
       "      <th>lematized</th>\n",
       "    </tr>\n",
       "  </thead>\n",
       "  <tbody>\n",
       "    <tr>\n",
       "      <th>0</th>\n",
       "      <td>RR's Yashasvi Jaiswal smashes fastest fifty in...</td>\n",
       "      <td>Rajasthan Royals (RR) opener Yashasvi Jaiswal ...</td>\n",
       "      <td>national</td>\n",
       "      <td>rajasthan royals rr opener yashasvi jaiswal th...</td>\n",
       "      <td>rajasthan royal rr open yashasvi jaiswal thurs...</td>\n",
       "      <td>rajasthan royals rr opener yashasvi jaiswal th...</td>\n",
       "    </tr>\n",
       "    <tr>\n",
       "      <th>1</th>\n",
       "      <td>Rajasthan Royals record biggest win of IPL 202...</td>\n",
       "      <td>Rajasthan Royals (RR) on Thursday recorded the...</td>\n",
       "      <td>national</td>\n",
       "      <td>rajasthan royals rr thursday recorded biggest ...</td>\n",
       "      <td>rajasthan royal rr thursday record biggest win...</td>\n",
       "      <td>rajasthan royals rr thursday record biggest wi...</td>\n",
       "    </tr>\n",
       "    <tr>\n",
       "      <th>2</th>\n",
       "      <td>RR break record for scoring most runs in 1st o...</td>\n",
       "      <td>RR on Thursday broke the record for scoring mo...</td>\n",
       "      <td>national</td>\n",
       "      <td>rr thursday broke record scoring runs first ip...</td>\n",
       "      <td>rr thursday broke record score run first ipl i...</td>\n",
       "      <td>rr thursday break record score run first ipl i...</td>\n",
       "    </tr>\n",
       "    <tr>\n",
       "      <th>3</th>\n",
       "      <td>Which Indians have smashed fifty off 15 or les...</td>\n",
       "      <td>RR's Yashasvi Jaiswal today slammed the fastes...</td>\n",
       "      <td>national</td>\n",
       "      <td>rrs yashasvi jaiswal today slammed fastest fif...</td>\n",
       "      <td>rr yashasvi jaiswal today slam fastest fifti i...</td>\n",
       "      <td>rrs yashasvi jaiswal today slam fastest fifty ...</td>\n",
       "    </tr>\n",
       "    <tr>\n",
       "      <th>4</th>\n",
       "      <td>Laxman Sivaramakrishnan mocks Kamal Haasan ove...</td>\n",
       "      <td>Ex-India spinner Laxman Sivaramakrishnan took ...</td>\n",
       "      <td>national</td>\n",
       "      <td>exindia spinner laxman sivaramakrishnan took d...</td>\n",
       "      <td>exindia spinner laxman sivaramakrishnan took d...</td>\n",
       "      <td>exindia spinner laxman sivaramakrishnan take d...</td>\n",
       "    </tr>\n",
       "  </tbody>\n",
       "</table>\n",
       "</div>"
      ],
      "text/plain": [
       "                                               title   \n",
       "0  RR's Yashasvi Jaiswal smashes fastest fifty in...  \\\n",
       "1  Rajasthan Royals record biggest win of IPL 202...   \n",
       "2  RR break record for scoring most runs in 1st o...   \n",
       "3  Which Indians have smashed fifty off 15 or les...   \n",
       "4  Laxman Sivaramakrishnan mocks Kamal Haasan ove...   \n",
       "\n",
       "                                            original  category   \n",
       "0  Rajasthan Royals (RR) opener Yashasvi Jaiswal ...  national  \\\n",
       "1  Rajasthan Royals (RR) on Thursday recorded the...  national   \n",
       "2  RR on Thursday broke the record for scoring mo...  national   \n",
       "3  RR's Yashasvi Jaiswal today slammed the fastes...  national   \n",
       "4  Ex-India spinner Laxman Sivaramakrishnan took ...  national   \n",
       "\n",
       "                                               clean   \n",
       "0  rajasthan royals rr opener yashasvi jaiswal th...  \\\n",
       "1  rajasthan royals rr thursday recorded biggest ...   \n",
       "2  rr thursday broke record scoring runs first ip...   \n",
       "3  rrs yashasvi jaiswal today slammed fastest fif...   \n",
       "4  exindia spinner laxman sivaramakrishnan took d...   \n",
       "\n",
       "                                             stemmed   \n",
       "0  rajasthan royal rr open yashasvi jaiswal thurs...  \\\n",
       "1  rajasthan royal rr thursday record biggest win...   \n",
       "2  rr thursday broke record score run first ipl i...   \n",
       "3  rr yashasvi jaiswal today slam fastest fifti i...   \n",
       "4  exindia spinner laxman sivaramakrishnan took d...   \n",
       "\n",
       "                                           lematized  \n",
       "0  rajasthan royals rr opener yashasvi jaiswal th...  \n",
       "1  rajasthan royals rr thursday record biggest wi...  \n",
       "2  rr thursday break record score run first ipl i...  \n",
       "3  rrs yashasvi jaiswal today slam fastest fifty ...  \n",
       "4  exindia spinner laxman sivaramakrishnan take d...  "
      ]
     },
     "execution_count": 42,
     "metadata": {},
     "output_type": "execute_result"
    }
   ],
   "source": [
    "news_df.head()"
   ]
  },
  {
   "cell_type": "code",
   "execution_count": null,
   "id": "5190b252-413b-40e6-b9d2-6c2f07878c90",
   "metadata": {},
   "outputs": [],
   "source": []
  }
 ],
 "metadata": {
  "kernelspec": {
   "display_name": "Python 3 (ipykernel)",
   "language": "python",
   "name": "python3"
  },
  "language_info": {
   "codemirror_mode": {
    "name": "ipython",
    "version": 3
   },
   "file_extension": ".py",
   "mimetype": "text/x-python",
   "name": "python",
   "nbconvert_exporter": "python",
   "pygments_lexer": "ipython3",
   "version": "3.11.2"
  }
 },
 "nbformat": 4,
 "nbformat_minor": 5
}
