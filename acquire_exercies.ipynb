{
 "cells": [
  {
   "cell_type": "code",
   "execution_count": 26,
   "id": "15c967fb",
   "metadata": {},
   "outputs": [],
   "source": [
    "from bs4 import BeautifulSoup\n",
    "import requests\n",
    "import os"
   ]
  },
  {
   "cell_type": "markdown",
   "id": "72ca7aad",
   "metadata": {},
   "source": [
    "# Exercises\n",
    "\n",
    "- By the end of this exercise, you should have a file named acquire.py that contains the specified functions. If you wish, you may break your work into separate files for each website (e.g. acquire_codeup_blog.py and acquire_news_articles.py), but the end function should be present in acquire.py (that is, acquire.py should import get_blog_articles from the acquire_codeup_blog module.)"
   ]
  },
  {
   "cell_type": "code",
   "execution_count": 5,
   "id": "10815593",
   "metadata": {},
   "outputs": [],
   "source": [
    "url = 'https://codeup.com/blog/'\n",
    "headers = {'User-Agent': 'Codeup Data Science'}\n",
    "response = requests.get(url, headers=headers)"
   ]
  },
  {
   "cell_type": "markdown",
   "id": "3293879b",
   "metadata": {},
   "source": [
    "## Codeup Blog Articles"
   ]
  },
  {
   "cell_type": "markdown",
   "id": "0e8e1c01",
   "metadata": {},
   "source": [
    "#### Visit Codeup's Blog and record the urls for at least 5 distinct blog posts. For each post, you should scrape at least the post's title and content.\n",
    "\n",
    "#### Encapsulate your work in a function named get_blog_articles that will return a list of dictionaries, with each dictionary representing one article. "
   ]
  },
  {
   "cell_type": "code",
   "execution_count": 10,
   "id": "7bbbf34e",
   "metadata": {},
   "outputs": [
    {
     "data": {
      "text/plain": [
       "{'title': 'the title of the article',\n",
       " 'content': 'the full text content of the article'}"
      ]
     },
     "execution_count": 10,
     "metadata": {},
     "output_type": "execute_result"
    }
   ],
   "source": [
    "# The shape of each dictionary should look like this, plus any \n",
    "# additional properties you think might be helpful.:\n",
    "\n",
    "{\n",
    "    'title': 'the title of the article',\n",
    "    'content': 'the full text content of the article'\n",
    "}\n"
   ]
  },
  {
   "cell_type": "code",
   "execution_count": 42,
   "id": "a4b85424",
   "metadata": {},
   "outputs": [
    {
     "data": {
      "text/plain": [
       "[<a class=\"more-link\" href=\"https://codeup.com/featured/women-in-tech-panelist-spotlight/\">read more</a>,\n",
       " <a class=\"more-link\" href=\"https://codeup.com/featured/women-in-tech-rachel-robbins-mayhill/\">read more</a>,\n",
       " <a class=\"more-link\" href=\"https://codeup.com/codeup-news/women-in-tech-panelist-spotlight-sarah-mellor/\">read more</a>,\n",
       " <a class=\"more-link\" href=\"https://codeup.com/events/women-in-tech-madeleine/\">read more</a>,\n",
       " <a class=\"more-link\" href=\"https://codeup.com/codeup-news/panelist-spotlight-4/\">read more</a>,\n",
       " <a class=\"more-link\" href=\"https://codeup.com/events/black-excellence-in-tech-panelist-spotlight-stephanie-jones/\">read more</a>]"
      ]
     },
     "execution_count": 42,
     "metadata": {},
     "output_type": "execute_result"
    }
   ],
   "source": [
    "url = 'https://codeup.com/blog/'\n",
    "\n",
    "headers = {'User-Agent': 'Codeup Data Science'}\n",
    "\n",
    "response = requests.get(url, headers=headers)\n",
    "\n",
    "soup = BeautifulSoup(response.content, 'html.parser')\n",
    "\n",
    "more_links = soup.find_all('a', class_='more-link')\n",
    "\n",
    "more_links"
   ]
  },
  {
   "cell_type": "code",
   "execution_count": 43,
   "id": "ba230846",
   "metadata": {},
   "outputs": [
    {
     "data": {
      "text/plain": [
       "['https://codeup.com/featured/women-in-tech-panelist-spotlight/',\n",
       " 'https://codeup.com/featured/women-in-tech-rachel-robbins-mayhill/',\n",
       " 'https://codeup.com/codeup-news/women-in-tech-panelist-spotlight-sarah-mellor/',\n",
       " 'https://codeup.com/events/women-in-tech-madeleine/',\n",
       " 'https://codeup.com/codeup-news/panelist-spotlight-4/',\n",
       " 'https://codeup.com/events/black-excellence-in-tech-panelist-spotlight-stephanie-jones/']"
      ]
     },
     "execution_count": 43,
     "metadata": {},
     "output_type": "execute_result"
    }
   ],
   "source": [
    "links_list = [link['href'] for link in more_links]\n",
    "\n",
    "links_list"
   ]
  },
  {
   "cell_type": "code",
   "execution_count": 44,
   "id": "ee60fb68",
   "metadata": {},
   "outputs": [],
   "source": [
    "response = requests.get(\n",
    "    'https://codeup.com/featured/women-in-tech-panelist-spotlight/', headers=headers)"
   ]
  },
  {
   "cell_type": "code",
   "execution_count": 45,
   "id": "98072a18",
   "metadata": {},
   "outputs": [
    {
     "data": {
      "text/plain": [
       "'Women in tech: Panelist Spotlight – Magdalena Rahn'"
      ]
     },
     "execution_count": 45,
     "metadata": {},
     "output_type": "execute_result"
    }
   ],
   "source": [
    "soup = BeautifulSoup(response.content, 'html.parser')\n",
    "example = soup.find('h1')\n",
    "example.text"
   ]
  },
  {
   "cell_type": "code",
   "execution_count": 46,
   "id": "fefbc1b3",
   "metadata": {},
   "outputs": [
    {
     "data": {
      "text/plain": [
       "'Mar 28, 2023'"
      ]
     },
     "execution_count": 46,
     "metadata": {},
     "output_type": "execute_result"
    }
   ],
   "source": [
    "example2 = soup.find('span', class_='published')\n",
    "example2.text"
   ]
  },
  {
   "cell_type": "code",
   "execution_count": 47,
   "id": "d5e48eca",
   "metadata": {},
   "outputs": [
    {
     "data": {
      "text/plain": [
       "'\\nWomen in tech: Panelist Spotlight – Magdalena Rahn\\nCodeup is hosting a Women in Tech Panel in honor of Women’s History Month on March 29th, 2023! To further celebrate, we’d like to spotlight each of our panelists leading up to the discussion to learn a bit about their respective experiences as women in the tech industry!\\n\\nMeet Magdalena!\\nMagdalena Rahn is a current Codeup student in a Data Science cohort in San Antonio, Texas. She has a professional background in cross-cultural communications, international business development, the wine industry and journalism. After serving in the US Navy, she decided to complement her professional skill set by attending the Data Science program at Codeup; she is set to graduate in March 2023. Magdalena is fluent in French, Bulgarian, Chinese-Mandarin, Spanish and Italian.\\nWe asked Magdalena how Codeup impacted her career, and she replied “Codeup has provided a solid foundation in analytical processes, programming and data science methods, and it’s been an encouragement to have such supportive instructors and wonderful classmates.”\\nDon’t forget to tune in on March 29th to sit in on an insightful conversation with Magdalena.\\n'"
      ]
     },
     "execution_count": 47,
     "metadata": {},
     "output_type": "execute_result"
    }
   ],
   "source": [
    "example3 = soup.find('div', class_='entry-content')\n",
    "example3.text"
   ]
  },
  {
   "cell_type": "code",
   "execution_count": 40,
   "id": "8561daf7",
   "metadata": {},
   "outputs": [
    {
     "data": {
      "text/plain": [
       "{'title': 'Women in tech: Panelist Spotlight – Magdalena Rahn',\n",
       " 'link': 'https://codeup.com/featured/women-in-tech-panelist-spotlight/',\n",
       " 'date_published': 'Mar 28, 2023',\n",
       " 'content': 'Women in tech: Panelist Spotlight – Magdalena Rahn\\nCodeup is hosting a Women in Tech Panel in honor of Women’s History Month on March 29th, 2023! To further celebrate, we’d like to spotlight each of our panelists leading up to the discussion to learn a bit about their respective experiences as women in the tech industry!\\n\\nMeet Magdalena!\\nMagdalena Rahn is a current Codeup student in a Data Science cohort in San Antonio, Texas. She has a professional background in cross-cultural communications, international business development, the wine industry and journalism. After serving in the US Navy, she decided to complement her professional skill set by attending the Data Science program at Codeup; she is set to graduate in March 2023. Magdalena is fluent in French, Bulgarian, Chinese-Mandarin, Spanish and Italian.\\nWe asked Magdalena how Codeup impacted her career, and she replied “Codeup has provided a solid foundation in analytical processes, programming and data science methods, and it’s been an encouragement to have such supportive instructors and wonderful classmates.”\\nDon’t forget to tune in on March 29th to sit in on an insightful conversation with Magdalena.'}"
      ]
     },
     "execution_count": 40,
     "metadata": {},
     "output_type": "execute_result"
    }
   ],
   "source": [
    "article_info = []\n",
    "\n",
    "for link in links_list:\n",
    "    \n",
    "    response = requests.get(link, headers=headers)\n",
    "    \n",
    "    soup = BeautifulSoup(response.content, 'html.parser')\n",
    "    \n",
    "    info_dict = {'title': soup.find('h1').text,\n",
    "                 'link': link,\n",
    "                 'date_published': soup.find('span', class_='published').text,\n",
    "                 'content': soup.find('div', class_='entry-content').text.strip()}\n",
    "    \n",
    "    article_info.append(info_dict)\n",
    "    \n",
    "article_info[0]   "
   ]
  },
  {
   "cell_type": "code",
   "execution_count": 52,
   "id": "0f19a7c8",
   "metadata": {},
   "outputs": [],
   "source": [
    "def get_blog_articles(article_list):\n",
    "    \n",
    "    headers = {'User-Agent': 'Codeup Data Science'}\n",
    "    \n",
    "    article_info = []\n",
    "    \n",
    "    for article in article_list:\n",
    "        \n",
    "        response = requests.get(article, headers=headers)\n",
    "        \n",
    "        soup = BeautifulSoup(response.content, 'html.parser')\n",
    "        \n",
    "        info_dict = {'title': soup.find('h1').text,\n",
    "                     'link': link,\n",
    "                     'date_published': soup.find('span', class_='published').text,\n",
    "                     'content': soup.find('div', class_='entry-content').text}\n",
    "        \n",
    "        article_info.append(info_dict)\n",
    "        \n",
    "    return article_info "
   ]
  },
  {
   "cell_type": "code",
   "execution_count": 54,
   "id": "306ce607",
   "metadata": {},
   "outputs": [
    {
     "data": {
      "text/plain": [
       "{'title': 'Women in Tech: Panelist Spotlight – Madeleine Capper',\n",
       " 'link': 'https://codeup.com/events/black-excellence-in-tech-panelist-spotlight-stephanie-jones/',\n",
       " 'date_published': 'Mar 6, 2023',\n",
       " 'content': '\\nWomen in tech: Panelist Spotlight – Madeleine Capper\\nCodeup is hosting a Women in Tech Panel in honor of Women’s History Month on March 29th, 2023! To further celebrate, we’d like to spotlight each of our panelists leading up to the discussion to learn a bit about their respective experiences as women in the tech industry!\\nMeet Madeleine!\\nMadeleine Capper is a Data Scientist in San Antonio, Texas. A long-standing San Antonio resident, she studied mathematics at the University of Texas San Antonio and has worked as a Data Scientist for Booz Allen Hamilton. Madeleine currently teaches Data Science at Codeup, where she works daily with burgeoning data professionals to help them actualize their career aspirations through technical education.\\nMadeleine attended Codeup as a student in early 2019 as a pupil in the very first Codeup Data Science cohort. The program proved immediately effective and she was the first student to obtain a data career out of the program. After working at Booz Allen Hamilton, Madeleine’s passion for education in conjunction with her appreciation for Codeup’s capacity for transformative life change brought her back to the institution in an instructional capacity, where she has been teaching for two years.\\nDon’t forget to tune in on March 29th to sit in on an insightful conversation.\\n'}"
      ]
     },
     "execution_count": 54,
     "metadata": {},
     "output_type": "execute_result"
    }
   ],
   "source": [
    "article_info = get_blog_articles(links_list)\n",
    "article_info[3]"
   ]
  },
  {
   "cell_type": "markdown",
   "id": "a131cbd9",
   "metadata": {},
   "source": [
    " - Bonus: Scrape the text of all the articles linked on codeup's blog page."
   ]
  },
  {
   "cell_type": "code",
   "execution_count": null,
   "id": "ed809700",
   "metadata": {},
   "outputs": [],
   "source": []
  },
  {
   "cell_type": "markdown",
   "id": "f629669f",
   "metadata": {},
   "source": [
    "## News Articles\n",
    "\n",
    "#### We will now be scraping text data from inshorts, a website that provides a brief overview of many different topics.\n",
    "\n",
    "#### Write a function that scrapes the news articles for the following topics:\n",
    "\n",
    "- Business\n",
    "- Sports\n",
    "- Technology\n",
    "- Entertainment\n",
    "\n",
    "####  The end product of this should be a function named get_news_articles that returns a list of dictionaries, where each dictionary has this shape:\n",
    "\n",
    "#### Hints:\n",
    "\n",
    " - Start by inspecting the website in your browser. Figure out which elements will be useful.\n",
    " - Start by creating a function that handles a single article and produces a dictionary like the one above.\n",
    " - Next create a function that will find all the articles on a single page and call the function you created in the last step for every article on the page.\n",
    " - Now create a function that will use the previous two functions to scrape the articles from all the pages that you need, and do any additional processing that needs to be done."
   ]
  },
  {
   "cell_type": "code",
   "execution_count": 89,
   "id": "09e7df43",
   "metadata": {},
   "outputs": [
    {
     "data": {
      "text/plain": [
       "'\\n\\n\\n\\n\\n\\n\\n\\n\\n\\n\\n\\n\\n\\n\\n\\n\\n\\n\\n\\n\\n\\n\\n\\n\\n\\n\\n\\n\\n\\n\\n\\n\\n\\n\\n\\n\\n\\n\\n\\n\\n\\n\\n\\n\\n\\nBusiness News: World and India Business News in English with Inshorts\\n\\n\\n\\n\\n\\n\\n\\n\\n\\n\\n\\n\\n\\n\\n\\n\\n\\n\\n\\n\\n\\n\\n\\n\\n\\n\\n\\n\\n\\n\\n\\n\\n\\n\\n\\n\\ntoggle menuMenu\\n\\n\\n\\n\\n\\n\\n\\n\\xa0\\n\\n\\n\\n\\n\\nEnglish\\nहिन्दी\\n\\n\\n\\nCategories\\n\\n All News \\n India \\n Business \\n Sports \\n World \\n Politics \\n Technology \\n Startup \\n Entertainment \\n Miscellaneous \\n Hatke \\n Science \\n Automobile \\n\\n\\n\\n\\n\\n\\n\\n\\n\\n\\n\\n\\n          For the best experience use inshorts app on your smartphone\\n        \\n\\n\\n\\n\\n\\n\\n\\n\\n\\n\\n\\n\\n\\n\\n\\n\\n\\n\\n\\n\\n\\n\\n\\n\\n\\n\\n\\nMicrosoft won\\'t give salary hikes to full-time employees this year\\n\\n\\nshort by Pragya Swastik / \\n      10:23 pm on 10 May 2023,Wednesday\\n\\n\\n\\nMicrosoft will not give salary hikes to full-time employees this year, CEO Satya Nadella said in an internal email on Wednesday. \"This year, the economic conditions are very different across many dimensions,\" Nadella said in the email. \"While we\\'ll have salary increases for certain hourly or equivalent roles, we won\\'t have salary increases for full-time employees this year,\" he added.\\n\\n\\nshort by Pragya Swastik / \\n      10:23 pm on 10 May\\n\\n\\n\\nread more at BQ Prime\\n\\n\\n\\n\\n\\n\\n\\n\\n\\n\\n\\n\\n\\n\\n\\n\\n\\n\\n\\n\\n\\n\\n\\n\\n\\n\\n\\n\\nRatan Tata must check whether his donations reach athletes or not: Vinesh\\n\\n\\nshort by Pragya Swastik / \\n      05:47 pm on 10 May 2023,Wednesday\\n\\n\\n\\nWrestler Vinesh Phogat on Wednesday said, \"I request Ratan Tata to check whether the funds that he donates to the wrestling federation reach the athletes or not.\" She added, \"He must seek this information from the Wrestling Federation of India (WFI).\" Vinesh is one of the many wrestlers protesting at Delhi\\'s Jantar Mantar against WFI chief Brij Bhushan Sharan Singh.\\n\\nshort by Pragya Swastik / \\n      05:47 pm on 10 May\\n\\n\\n\\nread more at Twitter\\n\\n\\n\\n\\n\\n\\n\\n\\n\\n\\n\\n\\n\\n\\n\\n\\n\\n\\n\\n\\n\\n\\n\\n\\n\\n\\n\\n\\nIndia\\'s high streets for shopping ranked, Bengaluru\\'s MG Road bags top spot\\n\\n\\nshort by Pragya Swastik / \\n      07:46 pm on 10 May 2023,Wednesday\\n\\n\\n\\nBengaluru\\'s MG Road ranked first in the list of India\\'s top 30 high streets for shopping, according to Knight Frank India\\'s \\'Think India Think Retail 2023 - High Street Real Estate Outlook\\'. It is followed by Hyderabad\\'s Somajiguda, Mumbai\\'s Linking Road and Delhi\\'s South Extension (Part 1 and Part 2). Kolkata\\'s Park Street and Camac Street bagged the fifth position.\\n\\nshort by Pragya Swastik / \\n      07:46 pm on 10 May\\n\\n\\n\\nread more at Hindustan Times\\n\\n\\n\\n\\n\\n\\n\\n\\n\\n\\n\\n\\n\\n\\n\\n\\n\\n\\n\\n\\n\\n\\n\\n\\n\\n\\n\\n\\nPepsiCo bottler Varun Beverages enters ₹1 lakh crore m-cap list\\n\\n\\nshort by Srishty Choudhury / \\n      06:58 pm on 10 May 2023,Wednesday\\n\\n\\n\\nVarun Beverages, PepsiCo\\'s India franchise bottler, on Wednesday, became the latest firm to attain ₹1 lakh crore market capitalisation. The company\\'s stock has more than doubled over the last one year. Its stock closed 6.81% higher on the BSE—the biggest single-day gains over the last three months. The stock gained 21.5% so far in 2023, following 123% returns in 2022.\\n\\n\\nshort by Srishty Choudhury / \\n      06:58 pm on 10 May\\n\\n\\n\\nread more at CNBC-TV18\\n\\n\\n\\n\\n\\n\\n\\n\\n\\n\\n\\n\\n\\n\\n\\n\\n\\n\\n\\n\\n\\n\\n\\n\\n\\n\\n\\n\\n\\n\\n\\nAll eyes on India as it becomes a \\'plus 1\\' to China: Anil Agarwal\\n\\n\\nshort by Srishty Choudhury / \\n      06:07 pm on 10 May 2023,Wednesday\\n\\n\\n\\nVedanta Resources Chairman Anil Agarwal said all eyes are on India as it becomes a \\'plus one\\' to China. \"With Apple expanding its iPhone production in India...it is clear we have everything it takes to be the next global manufacturing hub—We have a young workforce, huge domestic demand...I have no doubt that this is India\\'s time to shine!\" he tweeted.\\n\\n\\nshort by Srishty Choudhury / \\n      06:07 pm on 10 May\\n\\n\\n\\nread more at Twitter\\n\\n\\n\\n\\n\\n\\n\\n\\n\\n\\n\\n\\n\\n\\n\\n\\n\\n\\n\\n\\n\\n\\n\\n\\n\\n\\n\\n\\nMicrosoft to buy power from US nuclear fusion company Helion\\n\\n\\nshort by Srishty Choudhury / \\n      08:17 pm on 10 May 2023,Wednesday\\n\\n\\n\\nUS nuclear fusion company Helion Energy will provide Microsoft with electricity in about five years. This will be the first such deal for the power source that fuels the sun but has been elusive on Earth. Helion\\'s plant is expected to be online by 2028 and will target power generation of 50 megawatts or greater after a one-year ramp-up period.\\n\\n\\nshort by Srishty Choudhury / \\n      08:17 pm on 10 May\\n\\n\\n\\nread more at Reuters\\n\\n\\n\\n\\n\\n\\n\\n\\n\\n\\n\\n\\n\\n\\n\\n\\n\\n\\n\\n\\n\\n\\n\\n\\n\\n\\n\\n\\nIndia\\'s entrepreneurial spirit impressive: Walmart\\'s senior exec\\n\\n\\nshort by Mansi Agarwal / \\n      11:10 pm on 10 May 2023,Wednesday\\n\\n\\n\\nWalmart International CEO Judith McKenna said India is a \"priority market\" for the company. \"I am continually impressed by the entrepreneurial spirit across the country, and...Walmart is proud to play a small part in India\\'s growth story,\" McKenna added. Walmart CEO Doug McMillon also said the firm is committed to source goods worth $10 billion from India annually by 2027.\\n\\nshort by Mansi Agarwal / \\n      11:10 pm on 10 May\\n\\n\\n\\nread more at YourStory\\n\\n\\n\\n\\n\\n\\n\\n\\n\\n\\n\\n\\n\\n\\n\\n\\n\\n\\n\\n\\n\\n\\n\\n\\n\\n\\n\\n\\nEV ecosystem still not mature in India: Renault India MD & CEO\\n\\n\\nshort by Srishty Choudhury / \\n      10:08 pm on 10 May 2023,Wednesday\\n\\n\\n\\nVenkatram Mamillapalle, Renault India MD and CEO, believes the electric vehicle (EV) ecosystem goes beyond setting up charging stations. \"EV has a lot of safety requirements...the ecosystem for which is still not mature in India...I\\'m not just talking about...charging stations. It\\'s (about)...indigenisation of batteries, etc. Firemen need to be trained in case the vehicle catches fire,\" he said.\\n\\nshort by Srishty Choudhury / \\n      10:08 pm on 10 May\\n\\n\\n\\nread more at Moneycontrol\\n\\n\\n\\n\\n\\n\\n\\n\\n\\n\\n\\n\\n\\n\\n\\n\\n\\n\\n\\n\\n\\n\\n\\n\\n\\n\\n\\n\\nStop looking for China fix: EAM on how Indian businesses can grow\\n\\n\\nshort by Nakul Ahuja / \\n      11:13 pm on 10 May 2023,Wednesday\\n\\n\\n\\nExternal Affairs Minister S Jaishankar said that the Indian economy can grow and become stronger only if the focus is shifted to deep manufacturing capabilities and if businesses stop \"looking for a China fix\". \"We should not allow a level playing field for others who subsidise efforts, that\\'s not a level playing field, that is economic suicide,\" he said. \\n\\nshort by Nakul Ahuja / \\n      11:13 pm on 10 May\\n\\n\\n\\nread more at Hindustan Times\\n\\n\\n\\n\\n\\n\\n\\n\\n\\n\\n\\n\\n\\n\\n\\n\\n\\n\\n\\n\\n\\n\\n\\n\\n\\n\\n\\n\\nAircraft lessor SMBC moves NCLAT over NCLT\\'s order on Go First\\n\\n\\nshort by Srishty Choudhury / \\n      07:39 pm on 10 May 2023,Wednesday\\n\\n\\n\\nAircraft lessor SMBC Aviation Capital on Wednesday moved the National Company Law Appellate Tribunal (NCLAT) against the NCLT order allowing Go First\\'s voluntary plea to initiate insolvency proceedings. SMBC Aviation Capital is one of the world\\'s largest aircraft leasing companies. The low-cost airline filed for insolvency resolution on May 2 and owes ₹6,521 crore to financial creditors.\\n\\n\\nshort by Srishty Choudhury / \\n      07:39 pm on 10 May\\n\\n\\n\\nread more at The Print\\n\\n\\n\\n\\n\\n\\n\\n\\n\\n\\n\\n\\n\\n\\n\\n\\n\\n\\n\\n\\n\\n\\n\\n\\n\\n\\n\\n\\n\\n\\n\\nL&T\\'s Non-executive Chairman AM Naik resigns after Q4 results\\n\\n\\nshort by Srishty Choudhury / \\n      08:45 pm on 10 May 2023,Wednesday\\n\\n\\n\\nAfter Larsen & Toubro (L&T) posted a profit after tax of ₹3,987 crore, registering a growth of 10% y-o-y in the March quarter, the firm\\'s Non-executive Chairman AM Naik announced his decision to step down from his position effective September 30, 2023. Current CEO and MD SN Subrahmanyan will take over the reins of leadership from Naik effective October 1.\\n\\n\\nshort by Srishty Choudhury / \\n      08:45 pm on 10 May\\n\\n\\n\\nread more at Times Now\\n\\n\\n\\n\\n\\n\\n\\n\\n\\n\\n\\n\\n\\n\\n\\n\\n\\n\\n\\n\\n\\n\\n\\n\\n\\n\\n\\n\\nIt\\'d damage US reputation in extreme: Biden on debt default risk\\n\\n\\nshort by Mansi Agarwal / \\n      09:44 pm on 10 May 2023,Wednesday\\n\\n\\n\\nUS President Joe Biden said the country\\'s \"international reputation would be damaged in the extreme\" if it defaulted on its debt. \"Our economy would fall into a significant recession. It would devastate retirement accounts, increase borrowing cost,\" he added. The country risks defaulting on its debt if it fails to raise the debt ceiling from the current $31.4-trillion mark.\\n\\nshort by Mansi Agarwal / \\n      09:44 pm on 10 May\\n\\n\\n\\nread more at YouTube\\n\\n\\n\\n\\n\\n\\n\\n\\n\\n\\n\\n\\n\\n\\n\\n\\n\\n\\n\\n\\n\\n\\n\\n\\n\\n\\n\\n\\nNew York Times\\' shares fall 6% post missing Q1 revenue estimates\\n\\n\\nshort by Srishty Choudhury / \\n      10:04 pm on 10 May 2023,Wednesday\\n\\n\\n\\nThe New York Times missed estimates for quarterly revenue on Wednesday leading its shares to fall by 6%. Digital ad revenue fell nearly 9% to $61.3 million in the January-March period, while total revenue of $560.7 million was below estimates of $571 million, according to Refinitiv data. \"Advertising continues to experience near-term, cyclical challenges,\" said CEO Meredith Kopit Levien.\\n\\nshort by Srishty Choudhury / \\n      10:04 pm on 10 May\\n\\n\\n\\nread more at Reuters\\n\\n\\n\\n\\n\\n\\n\\n\\n\\n\\n\\n\\n\\n\\n\\n\\n\\n\\n\\n\\n\\n\\n\\n\\n\\n\\n\\n\\nWill vigorously defend ourselves against Go First\\'s claims: P&W\\n\\n\\nshort by Aishwarya Awasthi / \\n      10:31 pm on 10 May 2023,Wednesday\\n\\n\\n\\nPratt & Whitney has said it\\'s pursuing its own legal recourse against Go First after the latter claimed it filed for bankruptcy after grounding aircraft due to Pratt & Whitney\\'s failing engines. \"Go First\\'s allegations that Pratt & Whitney is responsible for its financial condition are without merit. Pratt & Whitney will vigorously defend itself against Go\\'s claims,\" P&W said.\\n\\nshort by Aishwarya Awasthi / \\n      10:31 pm on 10 May\\n\\n\\n\\nread more at Moneycontrol\\n\\n\\n\\n\\n\\n\\n\\n\\n\\n\\n\\n\\n\\n\\n\\n\\n\\n\\n\\n\\n\\n\\n\\n\\n\\n\\n\\n\\nUS annual inflation slows last month to lowest level in 2 years\\n\\n\\nshort by Srishty Choudhury / \\n      11:02 pm on 10 May 2023,Wednesday\\n\\n\\n\\nThe annual increase in US consumer prices slowed to below 5% in April for the first time in two years, according to the latest Consumer Price Index released on Wednesday. In the 12 months through April, the CPI increased 4.9%. That was the smallest year-on-year rise since April 2021 and followed a 5.0% advance in March. \\n\\n\\nshort by Srishty Choudhury / \\n      11:02 pm on 10 May\\n\\n\\n\\nread more at Reuters\\n\\n\\n\\n\\n\\n\\n\\n\\n\\n\\n\\n\\n\\n\\n\\n\\n\\n\\n\\n\\n\\n\\n\\n\\n\\n\\n\\n\\nGAIL plans to build $4.89 bn ethane cracker in Maharashtra: Report\\n\\n\\nshort by Aishwarya Awasthi / \\n      05:14 pm on 10 May 2023,Wednesday\\n\\n\\n\\nGAIL is planning to build a $4.89 billion ethane cracker near its liquefied natural gas (LNG) import plant in Maharashtra, Reuters reported citing sources. It is looking for a land in Dabhol, where it operates a five million tonnes a year (mtpa) LNG plant, for the 1.5 mtpa cracker project. GAIL plans to import ethane from the US.\\n\\nshort by Aishwarya Awasthi / \\n      05:14 pm on 10 May\\n\\n\\n\\nread more at Moneycontrol\\n\\n\\n\\n\\n\\n\\n\\n\\n\\n\\n\\n\\n\\n\\n\\n\\n\\n\\n\\n\\n\\n\\n\\n\\n\\n\\n\\n\\n\\n\\n\\nNo shell firms here: Mauritius minister on Adani-Hindenburg issue\\n\\n\\nshort by Mansi Agarwal / \\n      09:12 pm on 10 May 2023,Wednesday\\n\\n\\n\\nMauritius\\' Financial Services Minister Mahen Kumar Seeruttun commented on Hindenburg Research\\'s allegations that Adani Group used Mauritius-based shell companies to manipulate its stock prices. \"The allegations of the presence of shell companies in Mauritius are false and baseless,\" Seeruttun told the nation\\'s Parliament. He added that Mauritian laws don\\'t allow shell companies in the country.\\n\\nshort by Mansi Agarwal / \\n      09:12 pm on 10 May\\n\\n\\n\\nread more at BQ Prime\\n\\n\\n\\n\\n\\n\\n\\n\\n\\n\\n\\n\\n\\n\\n\\n\\n\\n\\n\\n\\n\\n\\n\\n\\n\\n\\n\\n\\nCake thrown at Porsche SE chairman by activist during VW meeting\\n\\n\\nshort by Aishwarya Awasthi / \\n      09:44 pm on 10 May 2023,Wednesday\\n\\n\\n\\nA climate activist threw cake at Porsche SE Chairman Wolfgang Porsche during Volkswagen\\'s annual general meeting in Berlin. Several people staged a protest blocking traffic ahead of the meeting and also argued that Volkswagen was \"making climate-damaging decisions\". They also shouted allegations of forced labour in China during speeches from CEO Oliver Blume and Chairman Hans Dieter Pötsch.\\n\\nshort by Aishwarya Awasthi / \\n      09:44 pm on 10 May\\n\\n\\n\\nread more at Moneycontrol\\n\\n\\n\\n\\n\\n\\n\\n\\n\\n\\n\\n\\n\\n\\n\\n\\n\\n\\n\\n\\n\\n\\n\\n\\n\\n\\n\\n\\nSpiceJet owes $8.5 mn to lessor Gasl Ireland Leasing: Report\\n\\n\\nshort by Ashley Paul / \\n      05:21 pm on 10 May 2023,Wednesday\\n\\n\\n\\nSpiceJet owes $8.5 million to lessor Gasl Ireland Leasing, ET Now reported citing a court in the UK. Earlier, National Company Law Tribunal (NCLT) had sent a notice to the airline to respond to a plea by lessor Aircastle Limited. Aircastle claimed that SpiceJet has unpaid dues pending and sought insolvency resolution proceedings against the latter.\\n\\nshort by Ashley Paul / \\n      05:21 pm on 10 May\\n\\n\\n\\nread more at ET Now\\n\\n\\n\\n\\n\\n\\n\\n\\n\\n\\n\\n\\n\\n\\n\\n\\n\\n\\n\\n\\n\\n\\n\\n\\n\\n\\n\\n\\nMG Motor India to dilute majority stake, set up new plant in Guj\\n\\n\\nshort by Mansi Agarwal / \\n      05:25 pm on 10 May 2023,Wednesday\\n\\n\\n\\nMG Motor India on Wednesday announced plans to offer majority stake to local partners over the next 2-4 years. The company aims to raise over ₹5,000 crore through the stake sale and will invest some of the amount to set up its second plant in Gujarat, MD Rajeev Chaba said. It also plans for an initial public offering by 2028.\\n\\nshort by Mansi Agarwal / \\n      05:25 pm on 10 May\\n\\n\\n\\nread more at Outlook India\\n\\n\\n\\n\\n\\n\\n\\n\\n\\n\\n\\n\\n\\n\\n\\n\\n\\n\\n\\n\\n\\n\\n\\n\\n\\n\\n\\n\\nWill react strictly & strongly if EU sanctions our firms: China\\n\\n\\nshort by Aishwarya Awasthi / \\n      06:13 pm on 10 May 2023,Wednesday\\n\\n\\n\\nChina\\'s Foreign Minister Qin Gang has said the nation would react \"strictly and strongly\" to any penalties imposed by the European Union on its companies for supplying Russia with goods that can be used for both military and civilian purposes. Qin has warned against disrupting the \"normal exchange between Chinese and Russian companies\".\\n\\n\\nshort by Aishwarya Awasthi / \\n      06:13 pm on 10 May\\n\\n\\n\\nread more at BQ Prime\\n\\n\\n\\n\\n\\n\\n\\n\\n\\n\\n\\n\\n\\n\\n\\n\\n\\n\\n\\n\\n\\n\\n\\n\\n\\n\\n\\n\\nFirst Citizens records $9.8 bn gain from collapsed SVB takeover\\n\\n\\nshort by Aishwarya Awasthi / \\n      09:48 pm on 10 May 2023,Wednesday\\n\\n\\n\\nThe First Citizens Bank has reported a gain of $9.8 billion in the first quarter from its acquisition of failed lender Silicon Valley Bank in March. The bank said its net income totalled $9.5 billion up from $264 million in the same period last year, because of a $9.8 billion gain from its deal for SVB. \\n\\nshort by Aishwarya Awasthi / \\n      09:48 pm on 10 May\\n\\n\\n\\nread more at Reuters\\n\\n\\n\\n\\n\\n\\n\\n\\n\\n\\n\\n\\n\\n\\n\\n\\n\\n\\n\\n\\n\\n\\n\\n\\n\\n\\n\\n\\n\\n\\n\\nGodrej Consumer Products to raise ₹5,000 crore via debentures\\n\\n\\nshort by Mansi Agarwal / \\n      11:05 pm on 10 May 2023,Wednesday\\n\\n\\n\\nThe board of Godrej Consumer Products on Wednesday approved raising up to ₹5,000 crore through issuance of non-convertible debentures. The company posted a consolidated net profit of  ₹452.14 crore for the quarter ended March, recording a 24% jump from the year-ago period. Its revenue also surged about 10% to around ₹3,200 crore.\\n\\nshort by Mansi Agarwal / \\n      11:05 pm on 10 May\\n\\n\\n\\nread more at CNBC-TV18\\n\\n\\n\\n\\n\\n\\n\\n\\n\\n\\n\\n\\n\\n\\n\\n\\n\\n\\n\\n\\n\\n\\n\\n\\n\\n\\n\\n\\nTesco Chairman denies allegations of touching women\\'s bottoms\\n\\n\\nshort by Nidhi Sinha / \\n      05:02 pm on 10 May 2023,Wednesday\\n\\n\\n\\nTesco Chairman John Allan has denied allegations of inappropriately touching two women on different occasions. The 74-year-old\\'s spokesperson called the claims \"simply untrue\". Earlier, The Guardian reported that Allan allegedly touched the bottom of a senior Tesco staffer last June. He\\'s also accused of touching the bottom of a staff member at a Confederation of British Industry dinner in 2019.\\n\\nshort by Nidhi Sinha / \\n      05:02 pm on 10 May\\n\\n\\n\\nread more at The Independent\\n\\n\\n\\n\\n\\n\\n\\n\\n\\n\\n\\n\\n\\n\\n\\n\\n\\n\\n\\n\\n\\n\\n\\n\\n\\n\\n\\n\\nIndian pharma market sales fall for 1st time in 11 months: Report\\n\\n\\nshort by Aishwarya Awasthi / \\n      05:40 pm on 10 May 2023,Wednesday\\n\\n\\n\\nThe Indian pharma market has reported a fall in its sales for the first time in 11 months, data from All Indian Origin Chemists and Distributors showed. The sales in the industry fell 8.2% year-on-year in April 2023. \"Despite negative growth in April 2023, we expect 10-11% year-on-year growth for FY24,\" Indian Ratings and Research Associate Director Krishnanath Munde said.\\n\\nshort by Aishwarya Awasthi / \\n      05:40 pm on 10 May\\n\\n\\n\\nread more at BQ Prime\\n\\n\\n\\n\\n\\nLoad More\\n\\n\\n\\n\\n\\n\\n              For the best experience use inshorts app on your smartphone\\n            \\n\\n\\n\\n\\n\\n\\n\\n\\n\\n\\n\\n\\n\\n\\n\\n\\n\\nInshorts Pte. Ltd.\\n          ©COPYRIGHT 2023\\n\\n\\n\\n\\n\\nTerms & conditions\\nPrivacy Policies\\n\\n\\n\\n\\n\\n\\n\\n\\n×\\n\\n\\nContact Hiring Team\\n\\n\\n\\n\\nContact Admin Team\\n\\n\\n\\n\\nContact Marketing Team\\n\\n\\n\\n\\nContact Editorial Team\\n\\n\\n\\n\\nContact Sales Team\\n\\n\\n\\n\\nContact For Any Other Query\\n\\n\\n\\n\\n\\n\\n\\n\\n\\n\\n\\n\\n\\n\\n\\n\\n'"
      ]
     },
     "execution_count": 89,
     "metadata": {},
     "output_type": "execute_result"
    }
   ],
   "source": [
    "response2 = requests.get('https://inshorts.com/en/read/business')\n",
    "soup2 = BeautifulSoup(response2.content, 'html.parser')\n",
    "soup2.text"
   ]
  },
  {
   "cell_type": "code",
   "execution_count": 64,
   "id": "3ca6af2b",
   "metadata": {},
   "outputs": [
    {
     "data": {
      "text/plain": [
       "[<span itemprop=\"headline\">Microsoft won't give salary hikes to full-time employees this year</span>,\n",
       " <span itemprop=\"headline\">Ratan Tata must check whether his donations reach athletes or not: Vinesh</span>,\n",
       " <span itemprop=\"headline\">India's high streets for shopping ranked, Bengaluru's MG Road bags top spot</span>,\n",
       " <span itemprop=\"headline\">PepsiCo bottler Varun Beverages enters ₹1 lakh crore m-cap list</span>,\n",
       " <span itemprop=\"headline\">All eyes on India as it becomes a 'plus 1' to China: Anil Agarwal</span>,\n",
       " <span itemprop=\"headline\">Microsoft to buy power from US nuclear fusion company Helion</span>,\n",
       " <span itemprop=\"headline\">EV ecosystem still not mature in India: Renault India MD &amp; CEO</span>,\n",
       " <span itemprop=\"headline\">India's entrepreneurial spirit impressive: Walmart's senior exec</span>,\n",
       " <span itemprop=\"headline\">Stop looking for China fix: EAM on how Indian businesses can grow</span>,\n",
       " <span itemprop=\"headline\">Tesco Chairman denies allegations of touching women's bottoms</span>,\n",
       " <span itemprop=\"headline\">US annual inflation slows last month to lowest level in 2 years</span>,\n",
       " <span itemprop=\"headline\">Will react strictly &amp; strongly if EU sanctions our firms: China</span>,\n",
       " <span itemprop=\"headline\">Aircraft lessor SMBC moves NCLAT over NCLT's order on Go First</span>,\n",
       " <span itemprop=\"headline\">First Citizens records $9.8 bn gain from collapsed SVB takeover</span>,\n",
       " <span itemprop=\"headline\">MG Motor India to dilute majority stake, set up new plant in Guj</span>,\n",
       " <span itemprop=\"headline\">L&amp;T's Non-executive Chairman AM Naik resigns after Q4 results</span>,\n",
       " <span itemprop=\"headline\">No shell firms here: Mauritius minister on Adani-Hindenburg issue</span>,\n",
       " <span itemprop=\"headline\">It'd damage US reputation in extreme: Biden on debt default risk</span>,\n",
       " <span itemprop=\"headline\">Will vigorously defend ourselves against Go First's claims: P&amp;W</span>,\n",
       " <span itemprop=\"headline\">Godrej Consumer Products to raise ₹5,000 crore via debentures</span>,\n",
       " <span itemprop=\"headline\">Cake thrown at Porsche SE chairman by activist during VW meeting</span>,\n",
       " <span itemprop=\"headline\">GAIL plans to build $4.89 bn ethane cracker in Maharashtra: Report</span>,\n",
       " <span itemprop=\"headline\">SpiceJet owes $8.5 mn to lessor Gasl Ireland Leasing: Report</span>,\n",
       " <span itemprop=\"headline\">Indian pharma market sales fall for 1st time in 11 months: Report</span>,\n",
       " <span itemprop=\"headline\">New York Times' shares fall 6% post missing Q1 revenue estimates</span>]"
      ]
     },
     "execution_count": 64,
     "metadata": {},
     "output_type": "execute_result"
    }
   ],
   "source": [
    "titles = soup2.find_all('span', itemprop='headline')\n",
    "titles"
   ]
  },
  {
   "cell_type": "code",
   "execution_count": 65,
   "id": "343b324b",
   "metadata": {},
   "outputs": [
    {
     "data": {
      "text/plain": [
       "<div itemprop=\"articleBody\">Microsoft will not give salary hikes to full-time employees this year, CEO Satya Nadella said in an internal email on Wednesday. \"This year, the economic conditions are very different across many dimensions,\" Nadella said in the email. \"While we'll have salary increases for certain hourly or equivalent roles, we won't have salary increases for full-time employees this year,\" he added.\n",
       "</div>"
      ]
     },
     "execution_count": 65,
     "metadata": {},
     "output_type": "execute_result"
    }
   ],
   "source": [
    "summaries = soup2.find_all('div', itemprop='articleBody')\n",
    "summaries[0]"
   ]
  },
  {
   "cell_type": "code",
   "execution_count": 69,
   "id": "646f6a42",
   "metadata": {},
   "outputs": [],
   "source": [
    "def scrape_page(topic):\n",
    "    \n",
    "    base_url = 'https://inshorts.com/en/read/'\n",
    "    \n",
    "    response = requests.get(base_url + topic)\n",
    "    \n",
    "    soup = BeautifulSoup(response.content, 'html.parser')\n",
    "    \n",
    "    titles = soup.find_all('span', itemprop='headline')\n",
    "    \n",
    "    summaries = soup.find_all('div', itemprop='articleBody')\n",
    "    \n",
    "    summary_list = []\n",
    "    \n",
    "    for i in range(len(titles)):\n",
    "        \n",
    "        temp_dict = {'category': topic,\n",
    "                     'title': titles[i].text,\n",
    "                     'content': summaries[i].text}\n",
    "        \n",
    "        summary_list.append(temp_dict)\n",
    "        \n",
    "    return summary_list"
   ]
  },
  {
   "cell_type": "code",
   "execution_count": 71,
   "id": "a7daa7ea",
   "metadata": {},
   "outputs": [
    {
     "data": {
      "text/plain": [
       "{'category': 'business',\n",
       " 'title': \"Microsoft won't give salary hikes to full-time employees this year\",\n",
       " 'content': 'Microsoft will not give salary hikes to full-time employees this year, CEO Satya Nadella said in an internal email on Wednesday. \"This year, the economic conditions are very different across many dimensions,\" Nadella said in the email. \"While we\\'ll have salary increases for certain hourly or equivalent roles, we won\\'t have salary increases for full-time employees this year,\" he added.\\n'}"
      ]
     },
     "execution_count": 71,
     "metadata": {},
     "output_type": "execute_result"
    }
   ],
   "source": [
    "business = scrape_page('business')\n",
    "business[0]"
   ]
  },
  {
   "cell_type": "code",
   "execution_count": 75,
   "id": "90503e4a",
   "metadata": {},
   "outputs": [],
   "source": [
    "def get_news_articles(topic_list):\n",
    "    \n",
    "    article_list = []\n",
    "    \n",
    "    for topic in topic_list:\n",
    "        \n",
    "        article_list.extend(scrape_page(topic))\n",
    "        \n",
    "    return article_list "
   ]
  },
  {
   "cell_type": "code",
   "execution_count": 76,
   "id": "0e67c4e5",
   "metadata": {},
   "outputs": [
    {
     "data": {
      "text/plain": [
       "{'category': 'business',\n",
       " 'title': \"Microsoft won't give salary hikes to full-time employees this year\",\n",
       " 'content': 'Microsoft will not give salary hikes to full-time employees this year, CEO Satya Nadella said in an internal email on Wednesday. \"This year, the economic conditions are very different across many dimensions,\" Nadella said in the email. \"While we\\'ll have salary increases for certain hourly or equivalent roles, we won\\'t have salary increases for full-time employees this year,\" he added.\\n'}"
      ]
     },
     "execution_count": 76,
     "metadata": {},
     "output_type": "execute_result"
    }
   ],
   "source": [
    "topics = ['business', 'sports', 'technology', 'entertainment']\n",
    "\n",
    "article_list = get_news_articles(topics)\n",
    "article_list[0]"
   ]
  },
  {
   "cell_type": "code",
   "execution_count": 77,
   "id": "c2253760",
   "metadata": {},
   "outputs": [
    {
     "data": {
      "text/plain": [
       "{'category': 'business',\n",
       " 'title': 'Ratan Tata must check whether his donations reach athletes or not: Vinesh',\n",
       " 'content': 'Wrestler Vinesh Phogat on Wednesday said, \"I request Ratan Tata to check whether the funds that he donates to the wrestling federation reach the athletes or not.\" She added, \"He must seek this information from the Wrestling Federation of India (WFI).\" Vinesh is one of the many wrestlers protesting at Delhi\\'s Jantar Mantar against WFI chief Brij Bhushan Sharan Singh.'}"
      ]
     },
     "execution_count": 77,
     "metadata": {},
     "output_type": "execute_result"
    }
   ],
   "source": [
    "article_list[1]"
   ]
  },
  {
   "cell_type": "code",
   "execution_count": 78,
   "id": "eb6aee45",
   "metadata": {},
   "outputs": [
    {
     "data": {
      "text/plain": [
       "{'category': 'business',\n",
       " 'title': 'Stop looking for China fix: EAM on how Indian businesses can grow',\n",
       " 'content': 'External Affairs Minister S Jaishankar said that the Indian economy can grow and become stronger only if the focus is shifted to deep manufacturing capabilities and if businesses stop \"looking for a China fix\". \"We should not allow a level playing field for others who subsidise efforts, that\\'s not a level playing field, that is economic suicide,\" he said. '}"
      ]
     },
     "execution_count": 78,
     "metadata": {},
     "output_type": "execute_result"
    }
   ],
   "source": [
    "article_list[8]"
   ]
  },
  {
   "cell_type": "code",
   "execution_count": 82,
   "id": "2a48a9a3",
   "metadata": {},
   "outputs": [
    {
     "data": {
      "text/plain": [
       "{'category': 'technology',\n",
       " 'title': \"Microsoft won't give salary hikes to full-time employees this year\",\n",
       " 'content': 'Microsoft will not give salary hikes to full-time employees this year, CEO Satya Nadella said in an internal email on Wednesday. \"This year, the economic conditions are very different across many dimensions,\" Nadella said in the email. \"While we\\'ll have salary increases for certain hourly or equivalent roles, we won\\'t have salary increases for full-time employees this year,\" he added.\\n'}"
      ]
     },
     "execution_count": 82,
     "metadata": {},
     "output_type": "execute_result"
    }
   ],
   "source": [
    "article_list[50]"
   ]
  },
  {
   "cell_type": "code",
   "execution_count": 83,
   "id": "e5c5c2ed",
   "metadata": {
    "scrolled": true
   },
   "outputs": [
    {
     "data": {
      "text/plain": [
       "{'category': 'technology',\n",
       " 'title': 'Fake Paytm Twitter accounts target users looking for customer care',\n",
       " 'content': \"Some Twitter users have received responses from accounts posing to be the customer care account of Paytm after tweeting the name of company, according to multiple reports. The fake messages, mimicking the writing style of the official account, ask users to call on a certain number. Reports noted that Paytm's official customer care account is currently unverified. \"}"
      ]
     },
     "execution_count": 83,
     "metadata": {},
     "output_type": "execute_result"
    }
   ],
   "source": [
    "article_list[74]"
   ]
  },
  {
   "cell_type": "code",
   "execution_count": 88,
   "id": "a56b33d1",
   "metadata": {},
   "outputs": [
    {
     "data": {
      "text/plain": [
       "{'category': 'entertainment',\n",
       " 'title': \"Kriti sits on floor at 'Adipurush' trailer launch; video surfaces\",\n",
       " 'content': \"Actress Kriti Sanon was seen sitting on the floor during the trailer launch of 'Adipurush' as the theatre where the event took place went houseful. A video showing her quickly sitting on the ground to watch the trailer after she failed to find a seat for herself has surfaced online. Kriti will play Goddess Sita in the Om Raut directorial. \"}"
      ]
     },
     "execution_count": 88,
     "metadata": {},
     "output_type": "execute_result"
    }
   ],
   "source": [
    "article_list[99]"
   ]
  }
 ],
 "metadata": {
  "kernelspec": {
   "display_name": "Python 3 (ipykernel)",
   "language": "python",
   "name": "python3"
  },
  "language_info": {
   "codemirror_mode": {
    "name": "ipython",
    "version": 3
   },
   "file_extension": ".py",
   "mimetype": "text/x-python",
   "name": "python",
   "nbconvert_exporter": "python",
   "pygments_lexer": "ipython3",
   "version": "3.9.13"
  }
 },
 "nbformat": 4,
 "nbformat_minor": 5
}
